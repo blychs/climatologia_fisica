{
 "cells": [
  {
   "cell_type": "code",
   "execution_count": null,
   "metadata": {},
   "outputs": [],
   "source": [
    "# binder https://hub.gke.mybinder.org/user/blychs-climatologia_fisica-dckeuhha/notebooks/practica2.ipynb\n",
    "import numpy as np\n",
    "import matplotlib.pyplot as plt\n",
    "import cartopy.crs as ccrs\n",
    "import pandas as pd\n",
    "import xarray as xr\n",
    "import copy\n",
    "from metpy.units import units\n",
    "import metpy.calc as mpcalc\n",
    "import metpy.constants as mpconsts\n",
    "import datetime as dt\n",
    "import calendar\n",
    "import seaborn as sns\n",
    "import cartopy.feature as cfeature\n",
    "from cartopy.util import add_cyclic_point\n",
    "#from funciones_meteo import load_file, ploteo_general, calculate_h"
   ]
  },
  {
   "cell_type": "code",
   "execution_count": null,
   "metadata": {},
   "outputs": [],
   "source": [
    "import funciones_meteo as fm"
   ]
  },
  {
   "cell_type": "code",
   "execution_count": null,
   "metadata": {},
   "outputs": [],
   "source": [
    "pres_r = fm.load_file('reanalysis/pl.mon.mean.nc')\n",
    "tmp_r = fm.load_file"
   ]
  },
  {
   "cell_type": "code",
   "execution_count": null,
   "metadata": {},
   "outputs": [],
   "source": [
    "print(pres)"
   ]
  },
  {
   "cell_type": "code",
   "execution_count": null,
   "metadata": {},
   "outputs": [],
   "source": [
    "output = fm.ploteo_general(pres['mean'].pres, vmin=800)\n",
    "plt.show()\n",
    "plt.figure(figsize=(20,10))\n",
    "ax = plt.axes(projection=ccrs.PlateCarree())\n",
    "pres_plot = pres['mean'].pres.plot.contourf(robust=True)\n",
    "#plt.clabel(pres_plot, inline=True)\n",
    "ax.coastlines()\n"
   ]
  }
 ],
 "metadata": {
  "kernelspec": {
   "display_name": "Python 3",
   "language": "python",
   "name": "python3"
  },
  "language_info": {
   "codemirror_mode": {
    "name": "ipython",
    "version": 3
   },
   "file_extension": ".py",
   "mimetype": "text/x-python",
   "name": "python",
   "nbconvert_exporter": "python",
   "pygments_lexer": "ipython3",
   "version": "3.7.6"
  }
 },
 "nbformat": 4,
 "nbformat_minor": 4
}
